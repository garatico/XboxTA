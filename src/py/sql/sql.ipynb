{
 "cells": [
  {
   "cell_type": "code",
   "execution_count": 2,
   "metadata": {},
   "outputs": [],
   "source": [
    "import sqlite3\n",
    "\n",
    "# SQL QUERIES FILES\n",
    "from leaderboard.leaderboard_queries import *\n",
    "from leaderboard.directory_queries import *\n",
    "from gamer_achievements_queries import *"
   ]
  },
  {
   "cell_type": "code",
   "execution_count": 4,
   "metadata": {},
   "outputs": [
    {
     "name": "stdout",
     "output_type": "stream",
     "text": [
      "Empty DataFrame\n",
      "Columns: []\n",
      "Index: []\n"
     ]
    }
   ],
   "source": [
    "gamer_achievements_directory = get_file_directory('./data/gamer/achievements')\n",
    "gamer_games_directory = get_file_directory('./data/gamer/games/')\n",
    "\n",
    "print(gamer_achievements_directory)"
   ]
  },
  {
   "cell_type": "code",
   "execution_count": null,
   "metadata": {},
   "outputs": [],
   "source": [
    "# SQL SETUP LEADERBOARD\n",
    "lb_conn = sqlite3.connect('./data/sql/leaderboard.db')\n",
    "#create_lb_tb_if_exists(conn = lb_conn)\n",
    "#insert_values_into_lb_tb(conn = lb_conn, sample = lb_csv)\n",
    "insert_values_into_directory_tb(lb_conn, gamer_achievements_directory)\n",
    "#insert_values_into_directory_tb(lb_conn, gamer_games_directory, \"gamer_games_directory\")"
   ]
  }
 ],
 "metadata": {
  "kernelspec": {
   "display_name": "Python 3",
   "language": "python",
   "name": "python3"
  },
  "language_info": {
   "codemirror_mode": {
    "name": "ipython",
    "version": 3
   },
   "file_extension": ".py",
   "mimetype": "text/x-python",
   "name": "python",
   "nbconvert_exporter": "python",
   "pygments_lexer": "ipython3",
   "version": "3.10.5"
  },
  "orig_nbformat": 4
 },
 "nbformat": 4,
 "nbformat_minor": 2
}
