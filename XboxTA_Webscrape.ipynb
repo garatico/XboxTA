{
 "cells": [
  {
   "cell_type": "markdown",
   "metadata": {},
   "source": [
    "[Home](../index.html)\n",
    "\n",
    "[Analysis](./XboxTA_Analysis.html)\n",
    "\n",
    "[Webscraping Methodology](./XboxTA_Webscrape.html)\n",
    "\n",
    "[Exploratory Data Analysis](./XboxTA_EDA.html)"
   ]
  },
  {
   "cell_type": "markdown",
   "metadata": {},
   "source": [
    "# Xbox TrueAchievements Web Scraping\n",
    "\n",
    "This notebook outlines the processes and methods used to scrape the data from TrueAchievements.com. The libraries utilized include NumPy, Pandas and Selenium. "
   ]
  },
  {
   "cell_type": "code",
   "execution_count": 1,
   "metadata": {},
   "outputs": [],
   "source": [
    "from src.py.manifest import *\n",
    "from src.py.scrape_main import *\n",
    "from src.py.rescrape.rescrape_gamer_achievements import *\n",
    "from src.py.rescrape.rescrape_gamer_games import *\n",
    "from src.py.leaderboard import *\n",
    "from src.py.anonymize import *\n",
    "\n",
    "#from src.py.sql.leaderboard import *\n",
    "#import sqlite3"
   ]
  },
  {
   "cell_type": "markdown",
   "metadata": {},
   "source": [
    "## Leaderboard Operations\n",
    "\n",
    "First we use a web scraper to extract data for all players on the leaderboard. Users can choose the start and end pages for data extraction and specify the frequency of CSV file saves during scraping. As the scraper progresses, data is automatically saved in CSV files at the specified intervals, ensuring secure storage. Each CSV file contains collected data up to that point. This method is primarily used to get a collection user profile URLs to be used for scraping later as individual analysis will be more accurate.\n",
    "\n",
    "Additionally, the project provides a method to merge individual CSV files into a single comprehensive CSV, creating a unified dataset ready for further analysis or integration into data pipelines. "
   ]
  },
  {
   "cell_type": "code",
   "execution_count": 10,
   "metadata": {},
   "outputs": [],
   "source": [
    "#scrape_save_pagerange(startpage = 18200, endpage = 18740, saveafter = 100)\n",
    "#combine_leaderboard_csv_files()"
   ]
  },
  {
   "cell_type": "markdown",
   "metadata": {},
   "source": [
    "## Gamer Profile Operations\n",
    "\n",
    "We have two methods to extract individual gamer's information. The first method allows users to specify the sample size and choose between scraping achievements or games histories data. Users can select the data type according to their specific needs. \n",
    "\n",
    "The second method focuses on scraping the locations of all gamers from their profiles, whenever available. "
   ]
  },
  {
   "cell_type": "code",
   "execution_count": null,
   "metadata": {},
   "outputs": [],
   "source": [
    "#scrape_random_gamers_data(sample_size = 1, data_type=\"achievements\")  # Scrape random gamer achievements"
   ]
  },
  {
   "cell_type": "code",
   "execution_count": null,
   "metadata": {},
   "outputs": [],
   "source": [
    "#scrape_random_gamers_data(sample_size = 5, data_type=\"games\")  # Scrape random gamer games"
   ]
  },
  {
   "cell_type": "code",
   "execution_count": null,
   "metadata": {},
   "outputs": [],
   "source": [
    "#scrape_all_gamer_locations()"
   ]
  },
  {
   "cell_type": "markdown",
   "metadata": {},
   "source": [
    "## Manifest Gamer Operations\n",
    "\n",
    "This method updates the manifest CSV that contains the list of profiles, their file directory references and when they were last scraped. "
   ]
  },
  {
   "cell_type": "code",
   "execution_count": null,
   "metadata": {},
   "outputs": [],
   "source": [
    "update_gamer_manifest()"
   ]
  },
  {
   "cell_type": "markdown",
   "metadata": {},
   "source": [
    "## Incomplete Profile Operations\n",
    "\n",
    "These methods scrape the profiles of those missing either games or achievements so that the manifest has a complete set of profiles."
   ]
  },
  {
   "cell_type": "code",
   "execution_count": null,
   "metadata": {},
   "outputs": [],
   "source": [
    "scrape_incomplete_profiles_achievements()"
   ]
  },
  {
   "cell_type": "code",
   "execution_count": null,
   "metadata": {},
   "outputs": [],
   "source": [
    "scrape_incomplete_profiles_games()"
   ]
  },
  {
   "cell_type": "markdown",
   "metadata": {},
   "source": [
    "## Rescrape Profile Operations\n",
    "\n",
    "These methods are used when one wants to update the profiles achievements or games potentially due to being out of date generally or compared with the rest of the data. "
   ]
  },
  {
   "cell_type": "code",
   "execution_count": null,
   "metadata": {},
   "outputs": [],
   "source": [
    "#rescrape_profiles_achievements()"
   ]
  },
  {
   "cell_type": "code",
   "execution_count": null,
   "metadata": {},
   "outputs": [],
   "source": [
    "#rescrape_profiles_games()"
   ]
  },
  {
   "cell_type": "markdown",
   "metadata": {},
   "source": [
    "## Manifest Achievement Operations"
   ]
  },
  {
   "cell_type": "code",
   "execution_count": null,
   "metadata": {},
   "outputs": [],
   "source": [
    "#rnd_achievements = read_random_gamers(200, \"_achievements.csv\")\n",
    "#update_achievement_manifest(rnd_achievements)"
   ]
  },
  {
   "cell_type": "markdown",
   "metadata": {},
   "source": [
    "## Check for Duplicates"
   ]
  },
  {
   "cell_type": "code",
   "execution_count": null,
   "metadata": {},
   "outputs": [],
   "source": [
    "check_duplicates_all_profiles(\"./data/gamer/achievements/\", metric_type=\"achievements\")\n",
    "check_duplicates_all_profiles(\"./data/gamer/games/\", metric_type=\"games\")"
   ]
  },
  {
   "cell_type": "markdown",
   "metadata": {},
   "source": [
    "## Anonymize Filenames in Raw Data Folder\n",
    "\n",
    "Here we convert the prefix which contains the gamertag of the CSV files to a 6 character length string of uppercase letters and numbers. This will be used to better track and anonymously so the data of gamers within the sample. "
   ]
  },
  {
   "cell_type": "code",
   "execution_count": 3,
   "metadata": {},
   "outputs": [],
   "source": [
    "nonanon_directory = \"./data/gamer/raw_data/non-anonymous/\"\n",
    "anon_directory = \"./data/gamer/raw_data/anonymous/\"\n",
    "data_types = [\"achievements\", \"games\", \"metrics\"]\n",
    "\n",
    "# Anonymize files for achievements, games, and metrics\n",
    "#id_mapping = anonymize_filenames_in_directory(nonanon_directory, anon_directory, data_types)\n",
    "\n",
    "# Process anonymized files for achievements, games, and metrics\n",
    "#process_anonymized_filenames(anon_directory, data_types, id_mapping)"
   ]
  },
  {
   "cell_type": "markdown",
   "metadata": {},
   "source": [
    "## Anonymize IDs within Files\n",
    "\n",
    "Here we sift through the newly anonymous files and remove all instances of the user ID attached to each one. This then completes the process of making all data anonymous. "
   ]
  },
  {
   "cell_type": "code",
   "execution_count": null,
   "metadata": {},
   "outputs": [],
   "source": [
    "# Remove user IDs attached to achievement files\n",
    "process_files_in_directory(f'{anon_directory}{data_types[0]}')"
   ]
  },
  {
   "cell_type": "code",
   "execution_count": null,
   "metadata": {},
   "outputs": [],
   "source": [
    "# Remove user IDs attached to game files\n",
    "process_files_in_directory(f'{anon_directory}{data_types[1]}')"
   ]
  }
 ],
 "metadata": {
  "kernelspec": {
   "display_name": "Python 3 (ipykernel)",
   "language": "python",
   "name": "python3"
  },
  "language_info": {
   "codemirror_mode": {
    "name": "ipython",
    "version": 3
   },
   "file_extension": ".py",
   "mimetype": "text/x-python",
   "name": "python",
   "nbconvert_exporter": "python",
   "pygments_lexer": "ipython3",
   "version": "3.10.5"
  }
 },
 "nbformat": 4,
 "nbformat_minor": 4
}
