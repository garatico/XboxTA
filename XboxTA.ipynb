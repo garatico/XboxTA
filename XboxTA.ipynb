{
 "cells": [
  {
   "cell_type": "code",
   "execution_count": 1,
   "metadata": {},
   "outputs": [],
   "source": [
    "from src.py.manifest import *\n",
    "from src.py.scrape.scrape import *\n",
    "from src.py.leaderboard import *\n",
    "from src.py.scrape.rescrape import *\n",
    "from src.py.sql.queries import *\n",
    "\n",
    "import sqlite3"
   ]
  },
  {
   "cell_type": "code",
   "execution_count": null,
   "metadata": {},
   "outputs": [],
   "source": [
    "# LEADERBOARD OPERATIONS\n",
    "#scrape_save_pagerange(startpage = 18200, endpage = 18740, saveafter = 100)\n",
    "#combine_leaderboard_csv_files()"
   ]
  },
  {
   "cell_type": "code",
   "execution_count": null,
   "metadata": {},
   "outputs": [],
   "source": [
    "# GAMERS OPERATIONS\n",
    "#scrape_random_gamers_data(sample_size=20, data_type=\"achievements\")  # Scrape random gamer achievements\n",
    "#scrape_random_gamers_data(sample_size=50, data_type=\"games\")  # Scrape random gamer games\n",
    "#scrape_all_gamer_locations()"
   ]
  },
  {
   "cell_type": "code",
   "execution_count": null,
   "metadata": {},
   "outputs": [],
   "source": [
    "# MANIFEST GAMER OPERATIONS\n",
    "update_gamer_manifest()"
   ]
  },
  {
   "cell_type": "code",
   "execution_count": null,
   "metadata": {},
   "outputs": [],
   "source": [
    "# INCOMPLETE SCRAPES\n",
    "scrape_incomplete_profiles_achievements()\n",
    "#scrape_incomplete_profiles_games()"
   ]
  },
  {
   "cell_type": "code",
   "execution_count": null,
   "metadata": {},
   "outputs": [],
   "source": [
    "# RESCRAPES\n",
    "#rescrape_profiles_achievements()\n",
    "#rescrape_profiles_games()\n",
    "\n",
    "# MANIFEST ACHIEVEMENT OPERATIONS\n",
    "#rnd_achievements = read_random_gamers(200, \"_achievements.csv\")\n",
    "#update_achievement_manifest(rnd_achievements)"
   ]
  },
  {
   "cell_type": "code",
   "execution_count": null,
   "metadata": {},
   "outputs": [],
   "source": [
    "# CHECK FOR DUPLICATES\n",
    "check_duplicates_all_profiles(\"./data/gamer/achievements/\", metric_type=\"achievements\")\n",
    "check_duplicates_all_profiles(\"./data/gamer/games/\", metric_type=\"games\")"
   ]
  },
  {
   "attachments": {},
   "cell_type": "markdown",
   "metadata": {},
   "source": [
    "# SQL DATABASE SETUP\n",
    "The cells below setup SQLite databases for the imported data. "
   ]
  }
 ],
 "metadata": {
  "kernelspec": {
   "display_name": "Python 3",
   "language": "python",
   "name": "python3"
  },
  "language_info": {
   "codemirror_mode": {
    "name": "ipython",
    "version": 3
   },
   "file_extension": ".py",
   "mimetype": "text/x-python",
   "name": "python",
   "nbconvert_exporter": "python",
   "pygments_lexer": "ipython3",
   "version": "3.10.5"
  },
  "orig_nbformat": 4
 },
 "nbformat": 4,
 "nbformat_minor": 2
}
